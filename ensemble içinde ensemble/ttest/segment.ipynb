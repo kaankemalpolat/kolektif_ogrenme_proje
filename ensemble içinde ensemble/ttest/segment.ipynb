{
 "cells": [
  {
   "cell_type": "code",
   "execution_count": 1,
   "metadata": {},
   "outputs": [],
   "source": [
    "import warnings\n",
    "warnings.filterwarnings(\"ignore\")"
   ]
  },
  {
   "cell_type": "code",
   "execution_count": 2,
   "metadata": {},
   "outputs": [],
   "source": [
    "import ensemble_project as ens\n",
    "\n",
    "from sklearn.model_selection import train_test_split\n",
    "\n",
    "from scipy.io import arff\n",
    "import pandas as pd"
   ]
  },
  {
   "cell_type": "code",
   "execution_count": 3,
   "metadata": {},
   "outputs": [
    {
     "data": {
      "text/html": [
       "<div>\n",
       "<style scoped>\n",
       "    .dataframe tbody tr th:only-of-type {\n",
       "        vertical-align: middle;\n",
       "    }\n",
       "\n",
       "    .dataframe tbody tr th {\n",
       "        vertical-align: top;\n",
       "    }\n",
       "\n",
       "    .dataframe thead th {\n",
       "        text-align: right;\n",
       "    }\n",
       "</style>\n",
       "<table border=\"1\" class=\"dataframe\">\n",
       "  <thead>\n",
       "    <tr style=\"text-align: right;\">\n",
       "      <th></th>\n",
       "      <th>region-centroid-col</th>\n",
       "      <th>region-centroid-row</th>\n",
       "      <th>short-line-density-5</th>\n",
       "      <th>short-line-density-2</th>\n",
       "      <th>vedge-mean</th>\n",
       "      <th>vegde-sd</th>\n",
       "      <th>hedge-mean</th>\n",
       "      <th>hedge-sd</th>\n",
       "      <th>intensity-mean</th>\n",
       "      <th>rawred-mean</th>\n",
       "      <th>rawblue-mean</th>\n",
       "      <th>rawgreen-mean</th>\n",
       "      <th>exred-mean</th>\n",
       "      <th>exblue-mean</th>\n",
       "      <th>exgreen-mean</th>\n",
       "      <th>value-mean</th>\n",
       "      <th>saturation-mean</th>\n",
       "      <th>hue-mean</th>\n",
       "      <th>class</th>\n",
       "    </tr>\n",
       "  </thead>\n",
       "  <tbody>\n",
       "    <tr>\n",
       "      <th>0</th>\n",
       "      <td>0.857708</td>\n",
       "      <td>0.695833</td>\n",
       "      <td>0.333333</td>\n",
       "      <td>0.0</td>\n",
       "      <td>0.028517</td>\n",
       "      <td>0.000552</td>\n",
       "      <td>0.024845</td>\n",
       "      <td>0.000393</td>\n",
       "      <td>0.415700</td>\n",
       "      <td>0.382496</td>\n",
       "      <td>0.498527</td>\n",
       "      <td>0.359313</td>\n",
       "      <td>0.472014</td>\n",
       "      <td>0.627059</td>\n",
       "      <td>0.148008</td>\n",
       "      <td>0.498527</td>\n",
       "      <td>0.318996</td>\n",
       "      <td>0.168489</td>\n",
       "      <td>b'6'</td>\n",
       "    </tr>\n",
       "    <tr>\n",
       "      <th>1</th>\n",
       "      <td>0.442688</td>\n",
       "      <td>0.495833</td>\n",
       "      <td>0.000000</td>\n",
       "      <td>0.0</td>\n",
       "      <td>0.009506</td>\n",
       "      <td>0.000253</td>\n",
       "      <td>0.007453</td>\n",
       "      <td>0.000263</td>\n",
       "      <td>0.006197</td>\n",
       "      <td>0.000000</td>\n",
       "      <td>0.016937</td>\n",
       "      <td>0.000779</td>\n",
       "      <td>0.789179</td>\n",
       "      <td>0.184705</td>\n",
       "      <td>0.538899</td>\n",
       "      <td>0.016937</td>\n",
       "      <td>1.000000</td>\n",
       "      <td>0.154605</td>\n",
       "      <td>b'3'</td>\n",
       "    </tr>\n",
       "    <tr>\n",
       "      <th>2</th>\n",
       "      <td>0.794466</td>\n",
       "      <td>0.125000</td>\n",
       "      <td>0.000000</td>\n",
       "      <td>0.0</td>\n",
       "      <td>0.032320</td>\n",
       "      <td>0.000779</td>\n",
       "      <td>0.024845</td>\n",
       "      <td>0.000740</td>\n",
       "      <td>0.857735</td>\n",
       "      <td>0.816047</td>\n",
       "      <td>0.926363</td>\n",
       "      <td>0.823845</td>\n",
       "      <td>0.272389</td>\n",
       "      <td>0.663529</td>\n",
       "      <td>0.292220</td>\n",
       "      <td>0.926363</td>\n",
       "      <td>0.199347</td>\n",
       "      <td>0.124946</td>\n",
       "      <td>b'2'</td>\n",
       "    </tr>\n",
       "    <tr>\n",
       "      <th>3</th>\n",
       "      <td>0.122530</td>\n",
       "      <td>0.675000</td>\n",
       "      <td>0.000000</td>\n",
       "      <td>0.0</td>\n",
       "      <td>0.058935</td>\n",
       "      <td>0.001796</td>\n",
       "      <td>0.201242</td>\n",
       "      <td>0.004869</td>\n",
       "      <td>0.303900</td>\n",
       "      <td>0.288493</td>\n",
       "      <td>0.350515</td>\n",
       "      <td>0.268900</td>\n",
       "      <td>0.630597</td>\n",
       "      <td>0.427059</td>\n",
       "      <td>0.309297</td>\n",
       "      <td>0.350515</td>\n",
       "      <td>0.266914</td>\n",
       "      <td>0.175488</td>\n",
       "      <td>b'6'</td>\n",
       "    </tr>\n",
       "    <tr>\n",
       "      <th>4</th>\n",
       "      <td>0.237154</td>\n",
       "      <td>0.775000</td>\n",
       "      <td>0.000000</td>\n",
       "      <td>0.0</td>\n",
       "      <td>0.049430</td>\n",
       "      <td>0.001528</td>\n",
       "      <td>0.058385</td>\n",
       "      <td>0.001389</td>\n",
       "      <td>0.345728</td>\n",
       "      <td>0.322528</td>\n",
       "      <td>0.407953</td>\n",
       "      <td>0.301636</td>\n",
       "      <td>0.563433</td>\n",
       "      <td>0.511765</td>\n",
       "      <td>0.240986</td>\n",
       "      <td>0.407953</td>\n",
       "      <td>0.302925</td>\n",
       "      <td>0.171558</td>\n",
       "      <td>b'6'</td>\n",
       "    </tr>\n",
       "  </tbody>\n",
       "</table>\n",
       "</div>"
      ],
      "text/plain": [
       "   region-centroid-col  region-centroid-row  short-line-density-5  \\\n",
       "0             0.857708             0.695833              0.333333   \n",
       "1             0.442688             0.495833              0.000000   \n",
       "2             0.794466             0.125000              0.000000   \n",
       "3             0.122530             0.675000              0.000000   \n",
       "4             0.237154             0.775000              0.000000   \n",
       "\n",
       "   short-line-density-2  vedge-mean  vegde-sd  hedge-mean  hedge-sd  \\\n",
       "0                   0.0    0.028517  0.000552    0.024845  0.000393   \n",
       "1                   0.0    0.009506  0.000253    0.007453  0.000263   \n",
       "2                   0.0    0.032320  0.000779    0.024845  0.000740   \n",
       "3                   0.0    0.058935  0.001796    0.201242  0.004869   \n",
       "4                   0.0    0.049430  0.001528    0.058385  0.001389   \n",
       "\n",
       "   intensity-mean  rawred-mean  rawblue-mean  rawgreen-mean  exred-mean  \\\n",
       "0        0.415700     0.382496      0.498527       0.359313    0.472014   \n",
       "1        0.006197     0.000000      0.016937       0.000779    0.789179   \n",
       "2        0.857735     0.816047      0.926363       0.823845    0.272389   \n",
       "3        0.303900     0.288493      0.350515       0.268900    0.630597   \n",
       "4        0.345728     0.322528      0.407953       0.301636    0.563433   \n",
       "\n",
       "   exblue-mean  exgreen-mean  value-mean  saturation-mean  hue-mean class  \n",
       "0     0.627059      0.148008    0.498527         0.318996  0.168489  b'6'  \n",
       "1     0.184705      0.538899    0.016937         1.000000  0.154605  b'3'  \n",
       "2     0.663529      0.292220    0.926363         0.199347  0.124946  b'2'  \n",
       "3     0.427059      0.309297    0.350515         0.266914  0.175488  b'6'  \n",
       "4     0.511765      0.240986    0.407953         0.302925  0.171558  b'6'  "
      ]
     },
     "execution_count": 3,
     "metadata": {},
     "output_type": "execute_result"
    }
   ],
   "source": [
    "data = arff.loadarff('C:/Users/Supervisor/Desktop/Kollektif Öğrenme/Proje/segment.arff')\n",
    "df = pd.DataFrame(data[0])\n",
    "\n",
    "df.head()"
   ]
  },
  {
   "cell_type": "code",
   "execution_count": 4,
   "metadata": {},
   "outputs": [],
   "source": [
    "X = df.drop(['class'],axis=1)\n",
    "y = df['class']"
   ]
  },
  {
   "cell_type": "code",
   "execution_count": 5,
   "metadata": {},
   "outputs": [
    {
     "data": {
      "text/plain": [
       "class\n",
       "b'1'    330\n",
       "b'2'    330\n",
       "b'3'    330\n",
       "b'4'    330\n",
       "b'5'    330\n",
       "b'6'    330\n",
       "b'7'    330\n",
       "Name: class, dtype: int64"
      ]
     },
     "execution_count": 5,
     "metadata": {},
     "output_type": "execute_result"
    }
   ],
   "source": [
    "y.groupby(y).count()"
   ]
  },
  {
   "cell_type": "code",
   "execution_count": 6,
   "metadata": {},
   "outputs": [],
   "source": [
    "y = y.apply(lambda x : 1 if x==b'1' else (2 if x==b'2' else (3 if x==b'3' else (4 if x==b'4' else (5 if x==b'5' else (6 if x==b'6' else 7))))))"
   ]
  },
  {
   "cell_type": "code",
   "execution_count": 7,
   "metadata": {},
   "outputs": [],
   "source": [
    "X_train, X_test, y_train, y_test = train_test_split(X, y, test_size=0.20, random_state=42)"
   ]
  },
  {
   "cell_type": "code",
   "execution_count": 8,
   "metadata": {},
   "outputs": [
    {
     "name": "stdout",
     "output_type": "stream",
     "text": [
      "   bagging_acc   ens_acc\n",
      "0     0.969697  0.967532\n",
      "          t        p\n",
      "0 -0.493865  0.64233\n"
     ]
    }
   ],
   "source": [
    "bagging_100vs10x10, eoe_bagging_100vs10x10, result_bagging_100vs10x10, ttest_bagging_vs_ens = ens.baggingClassifier_100vs10x100(X_train, X_test, y_train, y_test)\n",
    "print(result_bagging_100vs10x10)\n",
    "print(ttest_bagging_vs_ens)"
   ]
  },
  {
   "cell_type": "code",
   "execution_count": 9,
   "metadata": {},
   "outputs": [
    {
     "name": "stdout",
     "output_type": "stream",
     "text": [
      "    ada_acc   ens_acc\n",
      "0  0.508658  0.508658\n",
      "     t    p\n",
      "0  0.0  1.0\n"
     ]
    }
   ],
   "source": [
    "ada_100vs10x10, eoe_ada_100vs10x10, result_ada_100vs10x10, ttest_ada_vs_ens = ens.adaBoostClassifier_100vs10x10(X_train, X_test, y_train, y_test)\n",
    "print(result_ada_100vs10x10)\n",
    "print(ttest_ada_vs_ens)"
   ]
  },
  {
   "cell_type": "code",
   "execution_count": 10,
   "metadata": {},
   "outputs": [
    {
     "name": "stdout",
     "output_type": "stream",
     "text": [
      "   rnd_subspace_acc   ens_acc\n",
      "0          0.939394  0.967532\n",
      "          t        p\n",
      "0  0.532414  0.61724\n"
     ]
    }
   ],
   "source": [
    "rs_100vs10x10, eoe_rs_100vs10x10, result_rs_100vs10x10, ttest_rs_vs_ens = ens.randomSubspaceClassifier_100vs10x10(X_train, X_test, y_train, y_test)\n",
    "print(result_rs_100vs10x10)\n",
    "print(ttest_rs_vs_ens)"
   ]
  },
  {
   "cell_type": "code",
   "execution_count": 11,
   "metadata": {},
   "outputs": [
    {
     "name": "stdout",
     "output_type": "stream",
     "text": [
      "     rf_acc   ens_acc\n",
      "0  0.971861  0.974026\n",
      "          t         p\n",
      "0  2.247806  0.074482\n"
     ]
    }
   ],
   "source": [
    "rf_100vs10x10, eoe_rf_100vs10x10, result_rf_100vs10x10, ttest_rf_vs_ens = ens.randomForestClassifier_100vs10x10(X_train, X_test, y_train, y_test)\n",
    "print(result_rf_100vs10x10)\n",
    "print(ttest_rf_vs_ens)"
   ]
  },
  {
   "cell_type": "code",
   "execution_count": 12,
   "metadata": {},
   "outputs": [
    {
     "name": "stdout",
     "output_type": "stream",
     "text": [
      "   extra_acc   ens_acc\n",
      "0   0.967532  0.965368\n",
      "          t         p\n",
      "0  1.545335  0.182927\n"
     ]
    }
   ],
   "source": [
    "extra_100vs10x10, eoe_extra_100vs10x10, result_extra_100vs10x10, ttest_extra_vs_ens = ens.extraTreesClassifier_100vs10x10(X_train, X_test, y_train, y_test)\n",
    "print(result_extra_100vs10x10)\n",
    "print(ttest_extra_vs_ens)"
   ]
  },
  {
   "cell_type": "code",
   "execution_count": 13,
   "metadata": {},
   "outputs": [
    {
     "name": "stdout",
     "output_type": "stream",
     "text": [
      "   bagging_acc   ens_acc\n",
      "0     0.965368  0.967532\n",
      "          t         p\n",
      "0 -0.307148  0.771112\n"
     ]
    }
   ],
   "source": [
    "bagging_100vs10x100, eoe_bagging_100vs10x100, result_bagging_100vs10x100, ttest_bagging_vs_ens_100 = ens.baggingClassifier_100vs10x100(X_train, X_test, y_train, y_test)\n",
    "print(result_bagging_100vs10x100)\n",
    "print(ttest_bagging_vs_ens_100)"
   ]
  },
  {
   "cell_type": "code",
   "execution_count": 14,
   "metadata": {},
   "outputs": [
    {
     "name": "stdout",
     "output_type": "stream",
     "text": [
      "    ada_acc   ens_acc\n",
      "0  0.508658  0.508658\n",
      "    t   p\n",
      "0 NaN NaN\n"
     ]
    }
   ],
   "source": [
    "ada_100vs10x100, eoe_ada_100vs10x100, result_ada_100vs10x100, ttest_ada_vs_ens_100 = ens.adaBoostClassifier_100vs10x100(X_train, X_test, y_train, y_test)\n",
    "print(result_ada_100vs10x100)\n",
    "print(ttest_ada_vs_ens_100)"
   ]
  },
  {
   "cell_type": "code",
   "execution_count": 15,
   "metadata": {},
   "outputs": [
    {
     "name": "stdout",
     "output_type": "stream",
     "text": [
      "   rnd_subspace_acc   ens_acc\n",
      "0          0.945887  0.971861\n",
      "          t         p\n",
      "0  0.820977  0.449017\n"
     ]
    }
   ],
   "source": [
    "rs_100vs10x100, eoe_rs_100vs10x100, result_rs_100vs10x100, ttest_rs_vs_ens_100 = ens.randomSubspaceClassifier_100vs10x100(X_train, X_test, y_train, y_test)\n",
    "print(result_rs_100vs10x100)\n",
    "print(ttest_rs_vs_ens_100)"
   ]
  },
  {
   "cell_type": "code",
   "execution_count": 16,
   "metadata": {},
   "outputs": [
    {
     "name": "stdout",
     "output_type": "stream",
     "text": [
      "    rf_acc   ens_acc\n",
      "0  0.97619  0.969697\n",
      "          t         p\n",
      "0 -0.442807  0.676406\n"
     ]
    }
   ],
   "source": [
    "rf_100vs10x100, eoe_rf_100vs10x100, result_rf_100vs10x100, ttest_rf_vs_ens_100 = ens.randomForestClassifier_100vs10x100(X_train, X_test, y_train, y_test)\n",
    "print(result_rf_100vs10x100)\n",
    "print(ttest_rf_vs_ens_100)"
   ]
  },
  {
   "cell_type": "code",
   "execution_count": 17,
   "metadata": {},
   "outputs": [
    {
     "name": "stdout",
     "output_type": "stream",
     "text": [
      "   extra_acc   ens_acc\n",
      "0   0.965368  0.974026\n",
      "          t         p\n",
      "0  1.159001  0.298795\n"
     ]
    }
   ],
   "source": [
    "extra_100vs10x100, eoe_extra_100vs10x100, result_extra_100vs10x100, ttest_extra_vs_ens_100 = ens.extraTreesClassifier_100vs10x100(X_train, X_test, y_train, y_test)\n",
    "print(result_extra_100vs10x100)\n",
    "print(ttest_extra_vs_ens_100)"
   ]
  },
  {
   "cell_type": "code",
   "execution_count": 18,
   "metadata": {},
   "outputs": [],
   "source": [
    "all_df = ens.single_vote_stack(X_train, X_test, y_train, y_test)"
   ]
  },
  {
   "cell_type": "code",
   "execution_count": 19,
   "metadata": {},
   "outputs": [
    {
     "data": {
      "text/html": [
       "<div>\n",
       "<style scoped>\n",
       "    .dataframe tbody tr th:only-of-type {\n",
       "        vertical-align: middle;\n",
       "    }\n",
       "\n",
       "    .dataframe tbody tr th {\n",
       "        vertical-align: top;\n",
       "    }\n",
       "\n",
       "    .dataframe thead th {\n",
       "        text-align: right;\n",
       "    }\n",
       "</style>\n",
       "<table border=\"1\" class=\"dataframe\">\n",
       "  <thead>\n",
       "    <tr style=\"text-align: right;\">\n",
       "      <th></th>\n",
       "      <th>0</th>\n",
       "      <th>1</th>\n",
       "    </tr>\n",
       "  </thead>\n",
       "  <tbody>\n",
       "    <tr>\n",
       "      <th>0</th>\n",
       "      <td>Bagging</td>\n",
       "      <td>0.959307</td>\n",
       "    </tr>\n",
       "    <tr>\n",
       "      <th>1</th>\n",
       "      <td>Adaboost</td>\n",
       "      <td>0.508658</td>\n",
       "    </tr>\n",
       "    <tr>\n",
       "      <th>2</th>\n",
       "      <td>RS</td>\n",
       "      <td>0.952814</td>\n",
       "    </tr>\n",
       "    <tr>\n",
       "      <th>3</th>\n",
       "      <td>RF</td>\n",
       "      <td>0.958874</td>\n",
       "    </tr>\n",
       "    <tr>\n",
       "      <th>4</th>\n",
       "      <td>ExtraRandomTree</td>\n",
       "      <td>0.959307</td>\n",
       "    </tr>\n",
       "    <tr>\n",
       "      <th>5</th>\n",
       "      <td>Voting</td>\n",
       "      <td>0.959307</td>\n",
       "    </tr>\n",
       "    <tr>\n",
       "      <th>6</th>\n",
       "      <td>Stack_Bagging</td>\n",
       "      <td>0.963203</td>\n",
       "    </tr>\n",
       "    <tr>\n",
       "      <th>7</th>\n",
       "      <td>Stack_Adaboost</td>\n",
       "      <td>0.381385</td>\n",
       "    </tr>\n",
       "    <tr>\n",
       "      <th>8</th>\n",
       "      <td>Stack_RS</td>\n",
       "      <td>0.961472</td>\n",
       "    </tr>\n",
       "    <tr>\n",
       "      <th>9</th>\n",
       "      <td>Stack_RF</td>\n",
       "      <td>0.964935</td>\n",
       "    </tr>\n",
       "    <tr>\n",
       "      <th>10</th>\n",
       "      <td>Stack_ExtraRandomTree</td>\n",
       "      <td>0.965801</td>\n",
       "    </tr>\n",
       "  </tbody>\n",
       "</table>\n",
       "</div>"
      ],
      "text/plain": [
       "                        0         1\n",
       "0                 Bagging  0.959307\n",
       "1                Adaboost  0.508658\n",
       "2                      RS  0.952814\n",
       "3                      RF  0.958874\n",
       "4         ExtraRandomTree  0.959307\n",
       "5                  Voting  0.959307\n",
       "6           Stack_Bagging  0.963203\n",
       "7          Stack_Adaboost  0.381385\n",
       "8                Stack_RS  0.961472\n",
       "9                Stack_RF  0.964935\n",
       "10  Stack_ExtraRandomTree  0.965801"
      ]
     },
     "execution_count": 19,
     "metadata": {},
     "output_type": "execute_result"
    }
   ],
   "source": [
    "all_df"
   ]
  },
  {
   "cell_type": "code",
   "execution_count": 20,
   "metadata": {},
   "outputs": [],
   "source": [
    "import matplotlib.pyplot as plt"
   ]
  },
  {
   "cell_type": "code",
   "execution_count": 21,
   "metadata": {},
   "outputs": [
    {
     "data": {
      "image/png": "[encoded data removed]",
      "text/plain": [
       "<Figure size 1152x648 with 1 Axes>"
      ]
     },
     "metadata": {
      "needs_background": "light"
     },
     "output_type": "display_data"
    }
   ],
   "source": [
    "name = all_df[0]\n",
    "acc = all_df[1]\n",
    " \n",
    "# Figure Size\n",
    "fig, ax = plt.subplots(figsize =(16, 9))\n",
    "\n",
    "ax.set_xlim(0,1)\n",
    "\n",
    "# Horizontal Bar Plot\n",
    "ax.barh(name, acc)\n",
    " \n",
    "# Remove axes splines\n",
    "for s in ['top', 'bottom', 'left', 'right']:\n",
    "    ax.spines[s].set_visible(False)\n",
    " \n",
    "# Remove x, y Ticks\n",
    "ax.xaxis.set_ticks_position('none')\n",
    "ax.yaxis.set_ticks_position('none')\n",
    " \n",
    "# Add padding between axes and labels\n",
    "ax.xaxis.set_tick_params(pad = 5)\n",
    "ax.yaxis.set_tick_params(pad = 10)\n",
    " \n",
    "# Add x, y gridlines\n",
    "ax.grid(b = True, color ='grey',\n",
    "        linestyle ='-.', linewidth = 0.5,\n",
    "        alpha = 0.2)\n",
    " \n",
    "# Show top values\n",
    "ax.invert_yaxis()\n",
    " \n",
    "# Add annotation to bars\n",
    "for i in ax.patches:\n",
    "    plt.text(i.get_width()+0.01, i.get_y()+0.5,\n",
    "             str(round((i.get_width()), 2)),\n",
    "             fontsize = 10, fontweight ='bold',\n",
    "             color ='grey')\n",
    " \n",
    "# Add Plot Title\n",
    "ax.set_title('Segment Ensemble - EoE Voting - EoE Stack', loc ='center')\n",
    " \n",
    "\n",
    " \n",
    "# Show Plot\n",
    "plt.show()"
   ]
  },
  {
   "cell_type": "code",
   "execution_count": null,
   "metadata": {},
   "outputs": [],
   "source": []
  }
 ],
 "metadata": {
  "kernelspec": {
   "display_name": "Python 3",
   "language": "python",
   "name": "python3"
  },
  "language_info": {
   "codemirror_mode": {
    "name": "ipython",
    "version": 3
   },
   "file_extension": ".py",
   "mimetype": "text/x-python",
   "name": "python",
   "nbconvert_exporter": "python",
   "pygments_lexer": "ipython3",
   "version": "3.11.1 (tags/v3.11.1:a7a450f, Dec  6 2022, 19:58:39) [MSC v.1934 64 bit (AMD64)]"
  },
  "orig_nbformat": 4,
  "vscode": {
   "interpreter": {
    "hash": "38ab38b9cb30693e3bdc224e702989ac77930d013b745db9874085a6476b0f2e"
   }
  }
 },
 "nbformat": 4,
 "nbformat_minor": 2
}
