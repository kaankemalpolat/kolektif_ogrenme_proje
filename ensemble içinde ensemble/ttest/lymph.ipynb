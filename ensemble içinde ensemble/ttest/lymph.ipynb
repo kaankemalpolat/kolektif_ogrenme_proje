{
 "cells": [
  {
   "cell_type": "code",
   "execution_count": 1,
   "metadata": {},
   "outputs": [],
   "source": [
    "import warnings\n",
    "warnings.filterwarnings(\"ignore\")"
   ]
  },
  {
   "cell_type": "code",
   "execution_count": 2,
   "metadata": {},
   "outputs": [],
   "source": [
    "import ensemble_project as ens\n",
    "\n",
    "from sklearn.model_selection import train_test_split\n",
    "\n",
    "from scipy.io import arff\n",
    "import pandas as pd"
   ]
  },
  {
   "cell_type": "code",
   "execution_count": 3,
   "metadata": {},
   "outputs": [
    {
     "data": {
      "text/html": [
       "<div>\n",
       "<style scoped>\n",
       "    .dataframe tbody tr th:only-of-type {\n",
       "        vertical-align: middle;\n",
       "    }\n",
       "\n",
       "    .dataframe tbody tr th {\n",
       "        vertical-align: top;\n",
       "    }\n",
       "\n",
       "    .dataframe thead th {\n",
       "        text-align: right;\n",
       "    }\n",
       "</style>\n",
       "<table border=\"1\" class=\"dataframe\">\n",
       "  <thead>\n",
       "    <tr style=\"text-align: right;\">\n",
       "      <th></th>\n",
       "      <th>lymphatics=arched</th>\n",
       "      <th>lymphatics=deformed</th>\n",
       "      <th>lymphatics=displaced</th>\n",
       "      <th>block_of_affere</th>\n",
       "      <th>bl_of_lymph_c</th>\n",
       "      <th>bl_of_lymph_s</th>\n",
       "      <th>by_pass</th>\n",
       "      <th>extravasates</th>\n",
       "      <th>regeneration_of</th>\n",
       "      <th>early_uptake_in</th>\n",
       "      <th>...</th>\n",
       "      <th>changes_in_stru=reticular</th>\n",
       "      <th>changes_in_stru=stripped</th>\n",
       "      <th>changes_in_stru=faint</th>\n",
       "      <th>special_forms=no</th>\n",
       "      <th>special_forms=chalices</th>\n",
       "      <th>special_forms=vesicles</th>\n",
       "      <th>dislocation_of</th>\n",
       "      <th>exclusion_of_no</th>\n",
       "      <th>no_of_nodes_in</th>\n",
       "      <th>class</th>\n",
       "    </tr>\n",
       "  </thead>\n",
       "  <tbody>\n",
       "    <tr>\n",
       "      <th>0</th>\n",
       "      <td>1.0</td>\n",
       "      <td>0.0</td>\n",
       "      <td>0.0</td>\n",
       "      <td>1.0</td>\n",
       "      <td>0.0</td>\n",
       "      <td>0.0</td>\n",
       "      <td>0.0</td>\n",
       "      <td>0.0</td>\n",
       "      <td>0.0</td>\n",
       "      <td>1.0</td>\n",
       "      <td>...</td>\n",
       "      <td>0.0</td>\n",
       "      <td>1.0</td>\n",
       "      <td>0.0</td>\n",
       "      <td>0.0</td>\n",
       "      <td>0.0</td>\n",
       "      <td>1.0</td>\n",
       "      <td>1.0</td>\n",
       "      <td>1.0</td>\n",
       "      <td>0.571429</td>\n",
       "      <td>b'2'</td>\n",
       "    </tr>\n",
       "    <tr>\n",
       "      <th>1</th>\n",
       "      <td>0.0</td>\n",
       "      <td>0.0</td>\n",
       "      <td>1.0</td>\n",
       "      <td>1.0</td>\n",
       "      <td>0.0</td>\n",
       "      <td>0.0</td>\n",
       "      <td>1.0</td>\n",
       "      <td>1.0</td>\n",
       "      <td>0.0</td>\n",
       "      <td>1.0</td>\n",
       "      <td>...</td>\n",
       "      <td>0.0</td>\n",
       "      <td>0.0</td>\n",
       "      <td>0.0</td>\n",
       "      <td>0.0</td>\n",
       "      <td>0.0</td>\n",
       "      <td>1.0</td>\n",
       "      <td>1.0</td>\n",
       "      <td>1.0</td>\n",
       "      <td>0.285714</td>\n",
       "      <td>b'2'</td>\n",
       "    </tr>\n",
       "    <tr>\n",
       "      <th>2</th>\n",
       "      <td>1.0</td>\n",
       "      <td>0.0</td>\n",
       "      <td>0.0</td>\n",
       "      <td>0.0</td>\n",
       "      <td>0.0</td>\n",
       "      <td>0.0</td>\n",
       "      <td>0.0</td>\n",
       "      <td>1.0</td>\n",
       "      <td>0.0</td>\n",
       "      <td>1.0</td>\n",
       "      <td>...</td>\n",
       "      <td>0.0</td>\n",
       "      <td>0.0</td>\n",
       "      <td>0.0</td>\n",
       "      <td>0.0</td>\n",
       "      <td>0.0</td>\n",
       "      <td>1.0</td>\n",
       "      <td>0.0</td>\n",
       "      <td>1.0</td>\n",
       "      <td>0.000000</td>\n",
       "      <td>b'2'</td>\n",
       "    </tr>\n",
       "    <tr>\n",
       "      <th>3</th>\n",
       "      <td>1.0</td>\n",
       "      <td>0.0</td>\n",
       "      <td>0.0</td>\n",
       "      <td>0.0</td>\n",
       "      <td>0.0</td>\n",
       "      <td>0.0</td>\n",
       "      <td>0.0</td>\n",
       "      <td>0.0</td>\n",
       "      <td>0.0</td>\n",
       "      <td>0.0</td>\n",
       "      <td>...</td>\n",
       "      <td>0.0</td>\n",
       "      <td>0.0</td>\n",
       "      <td>1.0</td>\n",
       "      <td>0.0</td>\n",
       "      <td>0.0</td>\n",
       "      <td>1.0</td>\n",
       "      <td>0.0</td>\n",
       "      <td>0.0</td>\n",
       "      <td>0.000000</td>\n",
       "      <td>b'1'</td>\n",
       "    </tr>\n",
       "    <tr>\n",
       "      <th>4</th>\n",
       "      <td>1.0</td>\n",
       "      <td>0.0</td>\n",
       "      <td>0.0</td>\n",
       "      <td>0.0</td>\n",
       "      <td>0.0</td>\n",
       "      <td>0.0</td>\n",
       "      <td>0.0</td>\n",
       "      <td>0.0</td>\n",
       "      <td>0.0</td>\n",
       "      <td>1.0</td>\n",
       "      <td>...</td>\n",
       "      <td>0.0</td>\n",
       "      <td>0.0</td>\n",
       "      <td>1.0</td>\n",
       "      <td>0.0</td>\n",
       "      <td>0.0</td>\n",
       "      <td>1.0</td>\n",
       "      <td>1.0</td>\n",
       "      <td>1.0</td>\n",
       "      <td>0.285714</td>\n",
       "      <td>b'2'</td>\n",
       "    </tr>\n",
       "  </tbody>\n",
       "</table>\n",
       "<p>5 rows × 38 columns</p>\n",
       "</div>"
      ],
      "text/plain": [
       "   lymphatics=arched  lymphatics=deformed  lymphatics=displaced  \\\n",
       "0                1.0                  0.0                   0.0   \n",
       "1                0.0                  0.0                   1.0   \n",
       "2                1.0                  0.0                   0.0   \n",
       "3                1.0                  0.0                   0.0   \n",
       "4                1.0                  0.0                   0.0   \n",
       "\n",
       "   block_of_affere  bl_of_lymph_c  bl_of_lymph_s  by_pass  extravasates  \\\n",
       "0              1.0            0.0            0.0      0.0           0.0   \n",
       "1              1.0            0.0            0.0      1.0           1.0   \n",
       "2              0.0            0.0            0.0      0.0           1.0   \n",
       "3              0.0            0.0            0.0      0.0           0.0   \n",
       "4              0.0            0.0            0.0      0.0           0.0   \n",
       "\n",
       "   regeneration_of  early_uptake_in  ...  changes_in_stru=reticular  \\\n",
       "0              0.0              1.0  ...                        0.0   \n",
       "1              0.0              1.0  ...                        0.0   \n",
       "2              0.0              1.0  ...                        0.0   \n",
       "3              0.0              0.0  ...                        0.0   \n",
       "4              0.0              1.0  ...                        0.0   \n",
       "\n",
       "   changes_in_stru=stripped  changes_in_stru=faint  special_forms=no  \\\n",
       "0                       1.0                    0.0               0.0   \n",
       "1                       0.0                    0.0               0.0   \n",
       "2                       0.0                    0.0               0.0   \n",
       "3                       0.0                    1.0               0.0   \n",
       "4                       0.0                    1.0               0.0   \n",
       "\n",
       "   special_forms=chalices  special_forms=vesicles  dislocation_of  \\\n",
       "0                     0.0                     1.0             1.0   \n",
       "1                     0.0                     1.0             1.0   \n",
       "2                     0.0                     1.0             0.0   \n",
       "3                     0.0                     1.0             0.0   \n",
       "4                     0.0                     1.0             1.0   \n",
       "\n",
       "   exclusion_of_no  no_of_nodes_in  class  \n",
       "0              1.0        0.571429   b'2'  \n",
       "1              1.0        0.285714   b'2'  \n",
       "2              1.0        0.000000   b'2'  \n",
       "3              0.0        0.000000   b'1'  \n",
       "4              1.0        0.285714   b'2'  \n",
       "\n",
       "[5 rows x 38 columns]"
      ]
     },
     "execution_count": 3,
     "metadata": {},
     "output_type": "execute_result"
    }
   ],
   "source": [
    "data = arff.loadarff('C:/Users/Supervisor/Desktop/Kollektif Öğrenme/Proje/lymph.arff')\n",
    "df = pd.DataFrame(data[0])\n",
    "\n",
    "df.head()"
   ]
  },
  {
   "cell_type": "code",
   "execution_count": 4,
   "metadata": {},
   "outputs": [],
   "source": [
    "X = df.drop(['class'],axis=1)\n",
    "y = df['class']"
   ]
  },
  {
   "cell_type": "code",
   "execution_count": 5,
   "metadata": {},
   "outputs": [
    {
     "data": {
      "text/plain": [
       "class\n",
       "b'1'    81\n",
       "b'2'    61\n",
       "Name: class, dtype: int64"
      ]
     },
     "execution_count": 5,
     "metadata": {},
     "output_type": "execute_result"
    }
   ],
   "source": [
    "y.groupby(y).count()"
   ]
  },
  {
   "cell_type": "code",
   "execution_count": 6,
   "metadata": {},
   "outputs": [],
   "source": [
    "y = y.apply(lambda x : 0 if x==b'2' else 1)"
   ]
  },
  {
   "cell_type": "code",
   "execution_count": 7,
   "metadata": {},
   "outputs": [],
   "source": [
    "X_train, X_test, y_train, y_test = train_test_split(X, y, test_size=0.20, random_state=42)"
   ]
  },
  {
   "cell_type": "code",
   "execution_count": 8,
   "metadata": {},
   "outputs": [
    {
     "name": "stdout",
     "output_type": "stream",
     "text": [
      "   bagging_acc   ens_acc\n",
      "0     0.896552  0.862069\n",
      "          t         p\n",
      "0  1.793343  0.132892\n"
     ]
    }
   ],
   "source": [
    "bagging_100vs10x10, eoe_bagging_100vs10x10, result_bagging_100vs10x10, ttest_bagging_vs_ens = ens.baggingClassifier_100vs10x100(X_train, X_test, y_train, y_test)\n",
    "print(result_bagging_100vs10x10)\n",
    "print(ttest_bagging_vs_ens)"
   ]
  },
  {
   "cell_type": "code",
   "execution_count": 9,
   "metadata": {},
   "outputs": [
    {
     "name": "stdout",
     "output_type": "stream",
     "text": [
      "    ada_acc   ens_acc\n",
      "0  0.931034  0.931034\n",
      "          t         p\n",
      "0 -0.764872  0.478873\n"
     ]
    }
   ],
   "source": [
    "ada_100vs10x10, eoe_ada_100vs10x10, result_ada_100vs10x10, ttest_ada_vs_ens = ens.adaBoostClassifier_100vs10x10(X_train, X_test, y_train, y_test)\n",
    "print(result_ada_100vs10x10)\n",
    "print(ttest_ada_vs_ens)"
   ]
  },
  {
   "cell_type": "code",
   "execution_count": 10,
   "metadata": {},
   "outputs": [
    {
     "name": "stdout",
     "output_type": "stream",
     "text": [
      "   rnd_subspace_acc   ens_acc\n",
      "0          0.827586  0.827586\n",
      "          t         p\n",
      "0  0.178187  0.865571\n"
     ]
    }
   ],
   "source": [
    "rs_100vs10x10, eoe_rs_100vs10x10, result_rs_100vs10x10, ttest_rs_vs_ens = ens.randomSubspaceClassifier_100vs10x10(X_train, X_test, y_train, y_test)\n",
    "print(result_rs_100vs10x10)\n",
    "print(ttest_rs_vs_ens)"
   ]
  },
  {
   "cell_type": "code",
   "execution_count": 11,
   "metadata": {},
   "outputs": [
    {
     "name": "stdout",
     "output_type": "stream",
     "text": [
      "     rf_acc   ens_acc\n",
      "0  0.931034  0.862069\n",
      "          t         p\n",
      "0 -0.372849  0.724544\n"
     ]
    }
   ],
   "source": [
    "rf_100vs10x10, eoe_rf_100vs10x10, result_rf_100vs10x10, ttest_rf_vs_ens = ens.randomForestClassifier_100vs10x10(X_train, X_test, y_train, y_test)\n",
    "print(result_rf_100vs10x10)\n",
    "print(ttest_rf_vs_ens)"
   ]
  },
  {
   "cell_type": "code",
   "execution_count": 12,
   "metadata": {},
   "outputs": [
    {
     "name": "stdout",
     "output_type": "stream",
     "text": [
      "   extra_acc   ens_acc\n",
      "0        1.0  0.827586\n",
      "          t        p\n",
      "0  0.396822  0.70787\n"
     ]
    }
   ],
   "source": [
    "extra_100vs10x10, eoe_extra_100vs10x10, result_extra_100vs10x10, ttest_extra_vs_ens = ens.extraTreesClassifier_100vs10x10(X_train, X_test, y_train, y_test)\n",
    "print(result_extra_100vs10x10)\n",
    "print(ttest_extra_vs_ens)"
   ]
  },
  {
   "cell_type": "code",
   "execution_count": 13,
   "metadata": {},
   "outputs": [
    {
     "name": "stdout",
     "output_type": "stream",
     "text": [
      "   bagging_acc   ens_acc\n",
      "0     0.931034  0.862069\n",
      "     t    p\n",
      "0  0.0  1.0\n"
     ]
    }
   ],
   "source": [
    "bagging_100vs10x100, eoe_bagging_100vs10x100, result_bagging_100vs10x100, ttest_bagging_vs_ens_100 = ens.baggingClassifier_100vs10x100(X_train, X_test, y_train, y_test)\n",
    "print(result_bagging_100vs10x100)\n",
    "print(ttest_bagging_vs_ens_100)"
   ]
  },
  {
   "cell_type": "code",
   "execution_count": 14,
   "metadata": {},
   "outputs": [
    {
     "name": "stdout",
     "output_type": "stream",
     "text": [
      "    ada_acc   ens_acc\n",
      "0  0.931034  0.931034\n",
      "    t   p\n",
      "0 NaN NaN\n"
     ]
    }
   ],
   "source": [
    "ada_100vs10x100, eoe_ada_100vs10x100, result_ada_100vs10x100, ttest_ada_vs_ens_100 = ens.adaBoostClassifier_100vs10x100(X_train, X_test, y_train, y_test)\n",
    "print(result_ada_100vs10x100)\n",
    "print(ttest_ada_vs_ens_100)"
   ]
  },
  {
   "cell_type": "code",
   "execution_count": 15,
   "metadata": {},
   "outputs": [
    {
     "name": "stdout",
     "output_type": "stream",
     "text": [
      "   rnd_subspace_acc   ens_acc\n",
      "0          0.862069  0.965517\n",
      "          t         p\n",
      "0  0.730001  0.498141\n"
     ]
    }
   ],
   "source": [
    "rs_100vs10x100, eoe_rs_100vs10x100, result_rs_100vs10x100, ttest_rs_vs_ens_100 = ens.randomSubspaceClassifier_100vs10x100(X_train, X_test, y_train, y_test)\n",
    "print(result_rs_100vs10x100)\n",
    "print(ttest_rs_vs_ens_100)"
   ]
  },
  {
   "cell_type": "code",
   "execution_count": 16,
   "metadata": {},
   "outputs": [
    {
     "name": "stdout",
     "output_type": "stream",
     "text": [
      "     rf_acc   ens_acc\n",
      "0  0.965517  0.931034\n",
      "          t        p\n",
      "0  0.779207  0.47111\n"
     ]
    }
   ],
   "source": [
    "rf_100vs10x100, eoe_rf_100vs10x100, result_rf_100vs10x100, ttest_rf_vs_ens_100 = ens.randomForestClassifier_100vs10x100(X_train, X_test, y_train, y_test)\n",
    "print(result_rf_100vs10x100)\n",
    "print(ttest_rf_vs_ens_100)"
   ]
  },
  {
   "cell_type": "code",
   "execution_count": 17,
   "metadata": {},
   "outputs": [
    {
     "name": "stdout",
     "output_type": "stream",
     "text": [
      "   extra_acc   ens_acc\n",
      "0   0.965517  0.827586\n",
      "     t    p\n",
      "0  0.0  1.0\n"
     ]
    }
   ],
   "source": [
    "extra_100vs10x100, eoe_extra_100vs10x100, result_extra_100vs10x100, ttest_extra_vs_ens_100 = ens.extraTreesClassifier_100vs10x100(X_train, X_test, y_train, y_test)\n",
    "print(result_extra_100vs10x100)\n",
    "print(ttest_extra_vs_ens_100)"
   ]
  },
  {
   "cell_type": "code",
   "execution_count": 18,
   "metadata": {},
   "outputs": [],
   "source": [
    "all_df = ens.single_vote_stack(X_train, X_test, y_train, y_test)"
   ]
  },
  {
   "cell_type": "code",
   "execution_count": 19,
   "metadata": {},
   "outputs": [
    {
     "data": {
      "text/html": [
       "<div>\n",
       "<style scoped>\n",
       "    .dataframe tbody tr th:only-of-type {\n",
       "        vertical-align: middle;\n",
       "    }\n",
       "\n",
       "    .dataframe tbody tr th {\n",
       "        vertical-align: top;\n",
       "    }\n",
       "\n",
       "    .dataframe thead th {\n",
       "        text-align: right;\n",
       "    }\n",
       "</style>\n",
       "<table border=\"1\" class=\"dataframe\">\n",
       "  <thead>\n",
       "    <tr style=\"text-align: right;\">\n",
       "      <th></th>\n",
       "      <th>0</th>\n",
       "      <th>1</th>\n",
       "    </tr>\n",
       "  </thead>\n",
       "  <tbody>\n",
       "    <tr>\n",
       "      <th>0</th>\n",
       "      <td>Bagging</td>\n",
       "      <td>0.903448</td>\n",
       "    </tr>\n",
       "    <tr>\n",
       "      <th>1</th>\n",
       "      <td>Adaboost</td>\n",
       "      <td>0.931034</td>\n",
       "    </tr>\n",
       "    <tr>\n",
       "      <th>2</th>\n",
       "      <td>RS</td>\n",
       "      <td>0.906897</td>\n",
       "    </tr>\n",
       "    <tr>\n",
       "      <th>3</th>\n",
       "      <td>RF</td>\n",
       "      <td>0.910345</td>\n",
       "    </tr>\n",
       "    <tr>\n",
       "      <th>4</th>\n",
       "      <td>ExtraRandomTree</td>\n",
       "      <td>0.896552</td>\n",
       "    </tr>\n",
       "    <tr>\n",
       "      <th>5</th>\n",
       "      <td>Voting</td>\n",
       "      <td>0.903448</td>\n",
       "    </tr>\n",
       "    <tr>\n",
       "      <th>6</th>\n",
       "      <td>Stack_Bagging</td>\n",
       "      <td>0.865517</td>\n",
       "    </tr>\n",
       "    <tr>\n",
       "      <th>7</th>\n",
       "      <td>Stack_Adaboost</td>\n",
       "      <td>0.872414</td>\n",
       "    </tr>\n",
       "    <tr>\n",
       "      <th>8</th>\n",
       "      <td>Stack_RS</td>\n",
       "      <td>0.875862</td>\n",
       "    </tr>\n",
       "    <tr>\n",
       "      <th>9</th>\n",
       "      <td>Stack_RF</td>\n",
       "      <td>0.900000</td>\n",
       "    </tr>\n",
       "    <tr>\n",
       "      <th>10</th>\n",
       "      <td>Stack_ExtraRandomTree</td>\n",
       "      <td>0.868966</td>\n",
       "    </tr>\n",
       "  </tbody>\n",
       "</table>\n",
       "</div>"
      ],
      "text/plain": [
       "                        0         1\n",
       "0                 Bagging  0.903448\n",
       "1                Adaboost  0.931034\n",
       "2                      RS  0.906897\n",
       "3                      RF  0.910345\n",
       "4         ExtraRandomTree  0.896552\n",
       "5                  Voting  0.903448\n",
       "6           Stack_Bagging  0.865517\n",
       "7          Stack_Adaboost  0.872414\n",
       "8                Stack_RS  0.875862\n",
       "9                Stack_RF  0.900000\n",
       "10  Stack_ExtraRandomTree  0.868966"
      ]
     },
     "execution_count": 19,
     "metadata": {},
     "output_type": "execute_result"
    }
   ],
   "source": [
    "all_df"
   ]
  },
  {
   "cell_type": "code",
   "execution_count": 20,
   "metadata": {},
   "outputs": [],
   "source": [
    "import matplotlib.pyplot as plt"
   ]
  },
  {
   "cell_type": "code",
   "execution_count": 21,
   "metadata": {},
   "outputs": [
    {
     "data": {
      "image/png": "[encoded data removed]",
      "text/plain": [
       "<Figure size 1152x648 with 1 Axes>"
      ]
     },
     "metadata": {
      "needs_background": "light"
     },
     "output_type": "display_data"
    }
   ],
   "source": [
    "name = all_df[0]\n",
    "acc = all_df[1]\n",
    " \n",
    "# Figure Size\n",
    "fig, ax = plt.subplots(figsize =(16, 9))\n",
    "\n",
    "ax.set_xlim(0,1)\n",
    "\n",
    "# Horizontal Bar Plot\n",
    "ax.barh(name, acc)\n",
    " \n",
    "# Remove axes splines\n",
    "for s in ['top', 'bottom', 'left', 'right']:\n",
    "    ax.spines[s].set_visible(False)\n",
    " \n",
    "# Remove x, y Ticks\n",
    "ax.xaxis.set_ticks_position('none')\n",
    "ax.yaxis.set_ticks_position('none')\n",
    " \n",
    "# Add padding between axes and labels\n",
    "ax.xaxis.set_tick_params(pad = 5)\n",
    "ax.yaxis.set_tick_params(pad = 10)\n",
    " \n",
    "# Add x, y gridlines\n",
    "ax.grid(b = True, color ='grey',\n",
    "        linestyle ='-.', linewidth = 0.5,\n",
    "        alpha = 0.2)\n",
    " \n",
    "# Show top values\n",
    "ax.invert_yaxis()\n",
    " \n",
    "# Add annotation to bars\n",
    "for i in ax.patches:\n",
    "    plt.text(i.get_width()+0.01, i.get_y()+0.5,\n",
    "             str(round((i.get_width()), 2)),\n",
    "             fontsize = 10, fontweight ='bold',\n",
    "             color ='grey')\n",
    " \n",
    "# Add Plot Title\n",
    "ax.set_title('lymph Ensemble - EoE Voting - EoE Stack', loc ='center')\n",
    " \n",
    "\n",
    " \n",
    "# Show Plot\n",
    "plt.show()"
   ]
  },
  {
   "cell_type": "code",
   "execution_count": null,
   "metadata": {},
   "outputs": [],
   "source": []
  }
 ],
 "metadata": {
  "kernelspec": {
   "display_name": "Python 3",
   "language": "python",
   "name": "python3"
  },
  "language_info": {
   "codemirror_mode": {
    "name": "ipython",
    "version": 3
   },
   "file_extension": ".py",
   "mimetype": "text/x-python",
   "name": "python",
   "nbconvert_exporter": "python",
   "pygments_lexer": "ipython3",
   "version": "3.8.10 (tags/v3.8.10:3d8993a, May  3 2021, 11:48:03) [MSC v.1928 64 bit (AMD64)]"
  },
  "orig_nbformat": 4,
  "vscode": {
   "interpreter": {
    "hash": "19fd18b0d285e0c4af3819c13e63ae05e3f50efd1727d2df3408cf11bca0b2f8"
   }
  }
 },
 "nbformat": 4,
 "nbformat_minor": 2
}
