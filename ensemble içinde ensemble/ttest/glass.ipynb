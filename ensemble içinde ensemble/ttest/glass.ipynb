{
 "cells": [
  {
   "cell_type": "code",
   "execution_count": 1,
   "metadata": {},
   "outputs": [],
   "source": [
    "import warnings\n",
    "warnings.filterwarnings(\"ignore\")"
   ]
  },
  {
   "cell_type": "code",
   "execution_count": 2,
   "metadata": {},
   "outputs": [],
   "source": [
    "import ensemble_project as ens\n",
    "\n",
    "from sklearn.model_selection import train_test_split\n",
    "\n",
    "from scipy.io import arff\n",
    "import pandas as pd"
   ]
  },
  {
   "cell_type": "code",
   "execution_count": 3,
   "metadata": {},
   "outputs": [
    {
     "data": {
      "text/html": [
       "<div>\n",
       "<style scoped>\n",
       "    .dataframe tbody tr th:only-of-type {\n",
       "        vertical-align: middle;\n",
       "    }\n",
       "\n",
       "    .dataframe tbody tr th {\n",
       "        vertical-align: top;\n",
       "    }\n",
       "\n",
       "    .dataframe thead th {\n",
       "        text-align: right;\n",
       "    }\n",
       "</style>\n",
       "<table border=\"1\" class=\"dataframe\">\n",
       "  <thead>\n",
       "    <tr style=\"text-align: right;\">\n",
       "      <th></th>\n",
       "      <th>RI</th>\n",
       "      <th>Na</th>\n",
       "      <th>Mg</th>\n",
       "      <th>Al</th>\n",
       "      <th>Si</th>\n",
       "      <th>K</th>\n",
       "      <th>Ca</th>\n",
       "      <th>Ba</th>\n",
       "      <th>Fe</th>\n",
       "      <th>Type</th>\n",
       "    </tr>\n",
       "  </thead>\n",
       "  <tbody>\n",
       "    <tr>\n",
       "      <th>0</th>\n",
       "      <td>0.297629</td>\n",
       "      <td>0.309774</td>\n",
       "      <td>0.779510</td>\n",
       "      <td>0.258567</td>\n",
       "      <td>0.575000</td>\n",
       "      <td>0.103060</td>\n",
       "      <td>0.310409</td>\n",
       "      <td>0.000000</td>\n",
       "      <td>0.000000</td>\n",
       "      <td>b'1'</td>\n",
       "    </tr>\n",
       "    <tr>\n",
       "      <th>1</th>\n",
       "      <td>0.231782</td>\n",
       "      <td>0.215038</td>\n",
       "      <td>0.783964</td>\n",
       "      <td>0.330218</td>\n",
       "      <td>0.550000</td>\n",
       "      <td>0.091787</td>\n",
       "      <td>0.288104</td>\n",
       "      <td>0.000000</td>\n",
       "      <td>0.000000</td>\n",
       "      <td>b'3'</td>\n",
       "    </tr>\n",
       "    <tr>\n",
       "      <th>2</th>\n",
       "      <td>0.297629</td>\n",
       "      <td>0.372932</td>\n",
       "      <td>0.775056</td>\n",
       "      <td>0.348910</td>\n",
       "      <td>0.505357</td>\n",
       "      <td>0.095008</td>\n",
       "      <td>0.278810</td>\n",
       "      <td>0.000000</td>\n",
       "      <td>0.000000</td>\n",
       "      <td>b'1'</td>\n",
       "    </tr>\n",
       "    <tr>\n",
       "      <th>3</th>\n",
       "      <td>1.000000</td>\n",
       "      <td>0.236090</td>\n",
       "      <td>0.000000</td>\n",
       "      <td>0.221184</td>\n",
       "      <td>0.062500</td>\n",
       "      <td>0.019324</td>\n",
       "      <td>1.000000</td>\n",
       "      <td>0.000000</td>\n",
       "      <td>0.470588</td>\n",
       "      <td>b'2'</td>\n",
       "    </tr>\n",
       "    <tr>\n",
       "      <th>4</th>\n",
       "      <td>0.237050</td>\n",
       "      <td>0.303759</td>\n",
       "      <td>0.634744</td>\n",
       "      <td>0.358255</td>\n",
       "      <td>0.617857</td>\n",
       "      <td>0.091787</td>\n",
       "      <td>0.312268</td>\n",
       "      <td>0.034921</td>\n",
       "      <td>0.431373</td>\n",
       "      <td>b'2'</td>\n",
       "    </tr>\n",
       "  </tbody>\n",
       "</table>\n",
       "</div>"
      ],
      "text/plain": [
       "         RI        Na        Mg        Al        Si         K        Ca  \\\n",
       "0  0.297629  0.309774  0.779510  0.258567  0.575000  0.103060  0.310409   \n",
       "1  0.231782  0.215038  0.783964  0.330218  0.550000  0.091787  0.288104   \n",
       "2  0.297629  0.372932  0.775056  0.348910  0.505357  0.095008  0.278810   \n",
       "3  1.000000  0.236090  0.000000  0.221184  0.062500  0.019324  1.000000   \n",
       "4  0.237050  0.303759  0.634744  0.358255  0.617857  0.091787  0.312268   \n",
       "\n",
       "         Ba        Fe  Type  \n",
       "0  0.000000  0.000000  b'1'  \n",
       "1  0.000000  0.000000  b'3'  \n",
       "2  0.000000  0.000000  b'1'  \n",
       "3  0.000000  0.470588  b'2'  \n",
       "4  0.034921  0.431373  b'2'  "
      ]
     },
     "execution_count": 3,
     "metadata": {},
     "output_type": "execute_result"
    }
   ],
   "source": [
    "data = arff.loadarff('C:/Users/Supervisor/Desktop/Kollektif Öğrenme/Proje/glass.arff')\n",
    "df = pd.DataFrame(data[0])\n",
    "\n",
    "df.head()"
   ]
  },
  {
   "cell_type": "code",
   "execution_count": 4,
   "metadata": {},
   "outputs": [],
   "source": [
    "X = df.drop(['Type'],axis=1);\n",
    "y = df['Type']"
   ]
  },
  {
   "cell_type": "code",
   "execution_count": 5,
   "metadata": {},
   "outputs": [
    {
     "data": {
      "text/plain": [
       "Type\n",
       "b'1'    70\n",
       "b'2'    76\n",
       "b'3'    17\n",
       "b'4'    13\n",
       "b'5'    29\n",
       "Name: Type, dtype: int64"
      ]
     },
     "execution_count": 5,
     "metadata": {},
     "output_type": "execute_result"
    }
   ],
   "source": [
    "y.groupby(y).count()"
   ]
  },
  {
   "cell_type": "code",
   "execution_count": 6,
   "metadata": {},
   "outputs": [],
   "source": [
    "y = y.apply(lambda x : 1 if x==b'1' else (2 if x==b'2' else (3 if x==b'3' else (4 if x==b'4' else 5))))"
   ]
  },
  {
   "cell_type": "code",
   "execution_count": 7,
   "metadata": {},
   "outputs": [],
   "source": [
    "X_train, X_test, y_train, y_test = train_test_split(X, y, test_size=0.20, random_state=42)"
   ]
  },
  {
   "cell_type": "code",
   "execution_count": 8,
   "metadata": {},
   "outputs": [
    {
     "name": "stdout",
     "output_type": "stream",
     "text": [
      "   bagging_acc   ens_acc\n",
      "0     0.829268  0.804878\n",
      "     t    p\n",
      "0  0.0  1.0\n"
     ]
    }
   ],
   "source": [
    "bagging_100vs10x10, eoe_bagging_100vs10x10, result_bagging_100vs10x10, ttest_bagging_vs_ens = ens.baggingClassifier_100vs10x100(X_train, X_test, y_train, y_test)\n",
    "print(result_bagging_100vs10x10)\n",
    "print(ttest_bagging_vs_ens)"
   ]
  },
  {
   "cell_type": "code",
   "execution_count": 9,
   "metadata": {},
   "outputs": [
    {
     "name": "stdout",
     "output_type": "stream",
     "text": [
      "    ada_acc   ens_acc\n",
      "0  0.536585  0.536585\n",
      "     t    p\n",
      "0  0.0  1.0\n"
     ]
    }
   ],
   "source": [
    "ada_100vs10x10, eoe_ada_100vs10x10, result_ada_100vs10x10, ttest_ada_vs_ens = ens.adaBoostClassifier_100vs10x10(X_train, X_test, y_train, y_test)\n",
    "print(result_ada_100vs10x10)\n",
    "print(ttest_ada_vs_ens)"
   ]
  },
  {
   "cell_type": "code",
   "execution_count": 10,
   "metadata": {},
   "outputs": [
    {
     "name": "stdout",
     "output_type": "stream",
     "text": [
      "   rnd_subspace_acc   ens_acc\n",
      "0          0.707317  0.756098\n",
      "          t         p\n",
      "0  4.048882  0.009836\n"
     ]
    }
   ],
   "source": [
    "rs_100vs10x10, eoe_rs_100vs10x10, result_rs_100vs10x10, ttest_rs_vs_ens = ens.randomSubspaceClassifier_100vs10x10(X_train, X_test, y_train, y_test)\n",
    "print(result_rs_100vs10x10)\n",
    "print(ttest_rs_vs_ens)"
   ]
  },
  {
   "cell_type": "code",
   "execution_count": 11,
   "metadata": {},
   "outputs": [
    {
     "name": "stdout",
     "output_type": "stream",
     "text": [
      "     rf_acc   ens_acc\n",
      "0  0.829268  0.804878\n",
      "     t    p\n",
      "0  0.0  1.0\n"
     ]
    }
   ],
   "source": [
    "rf_100vs10x10, eoe_rf_100vs10x10, result_rf_100vs10x10, ttest_rf_vs_ens = ens.randomForestClassifier_100vs10x10(X_train, X_test, y_train, y_test)\n",
    "print(result_rf_100vs10x10)\n",
    "print(ttest_rf_vs_ens)"
   ]
  },
  {
   "cell_type": "code",
   "execution_count": 12,
   "metadata": {},
   "outputs": [
    {
     "name": "stdout",
     "output_type": "stream",
     "text": [
      "   extra_acc   ens_acc\n",
      "0   0.780488  0.829268\n",
      "          t         p\n",
      "0  0.953463  0.384142\n"
     ]
    }
   ],
   "source": [
    "extra_100vs10x10, eoe_extra_100vs10x10, result_extra_100vs10x10, ttest_extra_vs_ens = ens.extraTreesClassifier_100vs10x10(X_train, X_test, y_train, y_test)\n",
    "print(result_extra_100vs10x10)\n",
    "print(ttest_extra_vs_ens)"
   ]
  },
  {
   "cell_type": "code",
   "execution_count": 13,
   "metadata": {},
   "outputs": [
    {
     "name": "stdout",
     "output_type": "stream",
     "text": [
      "   bagging_acc   ens_acc\n",
      "0     0.804878  0.829268\n",
      "     t    p\n",
      "0  0.0  1.0\n"
     ]
    }
   ],
   "source": [
    "bagging_100vs10x100, eoe_bagging_100vs10x100, result_bagging_100vs10x100, ttest_bagging_vs_ens_100 = ens.baggingClassifier_100vs10x100(X_train, X_test, y_train, y_test)\n",
    "print(result_bagging_100vs10x100)\n",
    "print(ttest_bagging_vs_ens_100)"
   ]
  },
  {
   "cell_type": "code",
   "execution_count": 14,
   "metadata": {},
   "outputs": [
    {
     "name": "stdout",
     "output_type": "stream",
     "text": [
      "    ada_acc   ens_acc\n",
      "0  0.536585  0.536585\n",
      "     t    p\n",
      "0  0.0  1.0\n"
     ]
    }
   ],
   "source": [
    "ada_100vs10x100, eoe_ada_100vs10x100, result_ada_100vs10x100, ttest_ada_vs_ens_100 = ens.adaBoostClassifier_100vs10x100(X_train, X_test, y_train, y_test)\n",
    "print(result_ada_100vs10x100)\n",
    "print(ttest_ada_vs_ens_100)"
   ]
  },
  {
   "cell_type": "code",
   "execution_count": 15,
   "metadata": {},
   "outputs": [
    {
     "name": "stdout",
     "output_type": "stream",
     "text": [
      "   rnd_subspace_acc   ens_acc\n",
      "0          0.731707  0.853659\n",
      "          t         p\n",
      "0  4.022409  0.010097\n"
     ]
    }
   ],
   "source": [
    "rs_100vs10x100, eoe_rs_100vs10x100, result_rs_100vs10x100, ttest_rs_vs_ens_100 = ens.randomSubspaceClassifier_100vs10x100(X_train, X_test, y_train, y_test)\n",
    "print(result_rs_100vs10x100)\n",
    "print(ttest_rs_vs_ens_100)"
   ]
  },
  {
   "cell_type": "code",
   "execution_count": 16,
   "metadata": {},
   "outputs": [
    {
     "name": "stdout",
     "output_type": "stream",
     "text": [
      "     rf_acc   ens_acc\n",
      "0  0.804878  0.853659\n",
      "          t         p\n",
      "0 -0.766965  0.477734\n"
     ]
    }
   ],
   "source": [
    "rf_100vs10x100, eoe_rf_100vs10x100, result_rf_100vs10x100, ttest_rf_vs_ens_100 = ens.randomForestClassifier_100vs10x100(X_train, X_test, y_train, y_test)\n",
    "print(result_rf_100vs10x100)\n",
    "print(ttest_rf_vs_ens_100)"
   ]
  },
  {
   "cell_type": "code",
   "execution_count": 17,
   "metadata": {},
   "outputs": [
    {
     "name": "stdout",
     "output_type": "stream",
     "text": [
      "   extra_acc   ens_acc\n",
      "0   0.780488  0.829268\n",
      "          t         p\n",
      "0 -0.620174  0.562312\n"
     ]
    }
   ],
   "source": [
    "extra_100vs10x100, eoe_extra_100vs10x100, result_extra_100vs10x100, ttest_extra_vs_ens_100 = ens.extraTreesClassifier_100vs10x100(X_train, X_test, y_train, y_test)\n",
    "print(result_extra_100vs10x100)\n",
    "print(ttest_extra_vs_ens_100)"
   ]
  },
  {
   "cell_type": "code",
   "execution_count": 18,
   "metadata": {},
   "outputs": [],
   "source": [
    "all_df = ens.single_vote_stack(X_train, X_test, y_train, y_test)"
   ]
  },
  {
   "cell_type": "code",
   "execution_count": 19,
   "metadata": {},
   "outputs": [
    {
     "data": {
      "text/html": [
       "<div>\n",
       "<style scoped>\n",
       "    .dataframe tbody tr th:only-of-type {\n",
       "        vertical-align: middle;\n",
       "    }\n",
       "\n",
       "    .dataframe tbody tr th {\n",
       "        vertical-align: top;\n",
       "    }\n",
       "\n",
       "    .dataframe thead th {\n",
       "        text-align: right;\n",
       "    }\n",
       "</style>\n",
       "<table border=\"1\" class=\"dataframe\">\n",
       "  <thead>\n",
       "    <tr style=\"text-align: right;\">\n",
       "      <th></th>\n",
       "      <th>0</th>\n",
       "      <th>1</th>\n",
       "    </tr>\n",
       "  </thead>\n",
       "  <tbody>\n",
       "    <tr>\n",
       "      <th>0</th>\n",
       "      <td>Bagging</td>\n",
       "      <td>0.773171</td>\n",
       "    </tr>\n",
       "    <tr>\n",
       "      <th>1</th>\n",
       "      <td>Adaboost</td>\n",
       "      <td>0.536585</td>\n",
       "    </tr>\n",
       "    <tr>\n",
       "      <th>2</th>\n",
       "      <td>RS</td>\n",
       "      <td>0.797561</td>\n",
       "    </tr>\n",
       "    <tr>\n",
       "      <th>3</th>\n",
       "      <td>RF</td>\n",
       "      <td>0.775610</td>\n",
       "    </tr>\n",
       "    <tr>\n",
       "      <th>4</th>\n",
       "      <td>ExtraRandomTree</td>\n",
       "      <td>0.753659</td>\n",
       "    </tr>\n",
       "    <tr>\n",
       "      <th>5</th>\n",
       "      <td>Voting</td>\n",
       "      <td>0.773171</td>\n",
       "    </tr>\n",
       "    <tr>\n",
       "      <th>6</th>\n",
       "      <td>Stack_Bagging</td>\n",
       "      <td>0.763415</td>\n",
       "    </tr>\n",
       "    <tr>\n",
       "      <th>7</th>\n",
       "      <td>Stack_Adaboost</td>\n",
       "      <td>0.665854</td>\n",
       "    </tr>\n",
       "    <tr>\n",
       "      <th>8</th>\n",
       "      <td>Stack_RS</td>\n",
       "      <td>0.756098</td>\n",
       "    </tr>\n",
       "    <tr>\n",
       "      <th>9</th>\n",
       "      <td>Stack_RF</td>\n",
       "      <td>0.800000</td>\n",
       "    </tr>\n",
       "    <tr>\n",
       "      <th>10</th>\n",
       "      <td>Stack_ExtraRandomTree</td>\n",
       "      <td>0.782927</td>\n",
       "    </tr>\n",
       "  </tbody>\n",
       "</table>\n",
       "</div>"
      ],
      "text/plain": [
       "                        0         1\n",
       "0                 Bagging  0.773171\n",
       "1                Adaboost  0.536585\n",
       "2                      RS  0.797561\n",
       "3                      RF  0.775610\n",
       "4         ExtraRandomTree  0.753659\n",
       "5                  Voting  0.773171\n",
       "6           Stack_Bagging  0.763415\n",
       "7          Stack_Adaboost  0.665854\n",
       "8                Stack_RS  0.756098\n",
       "9                Stack_RF  0.800000\n",
       "10  Stack_ExtraRandomTree  0.782927"
      ]
     },
     "execution_count": 19,
     "metadata": {},
     "output_type": "execute_result"
    }
   ],
   "source": [
    "all_df"
   ]
  },
  {
   "cell_type": "code",
   "execution_count": 20,
   "metadata": {},
   "outputs": [],
   "source": [
    "import matplotlib.pyplot as plt"
   ]
  },
  {
   "cell_type": "code",
   "execution_count": 21,
   "metadata": {},
   "outputs": [
    {
     "data": {
      "image/png": "[encoded data removed]",
      "text/plain": [
       "<Figure size 1152x648 with 1 Axes>"
      ]
     },
     "metadata": {
      "needs_background": "light"
     },
     "output_type": "display_data"
    }
   ],
   "source": [
    "name = all_df[0]\n",
    "acc = all_df[1]\n",
    " \n",
    "# Figure Size\n",
    "fig, ax = plt.subplots(figsize =(16, 9))\n",
    "\n",
    "ax.set_xlim(0,1)\n",
    "\n",
    "# Horizontal Bar Plot\n",
    "ax.barh(name, acc)\n",
    " \n",
    "# Remove axes splines\n",
    "for s in ['top', 'bottom', 'left', 'right']:\n",
    "    ax.spines[s].set_visible(False)\n",
    " \n",
    "# Remove x, y Ticks\n",
    "ax.xaxis.set_ticks_position('none')\n",
    "ax.yaxis.set_ticks_position('none')\n",
    " \n",
    "# Add padding between axes and labels\n",
    "ax.xaxis.set_tick_params(pad = 5)\n",
    "ax.yaxis.set_tick_params(pad = 10)\n",
    " \n",
    "# Add x, y gridlines\n",
    "ax.grid(b = True, color ='grey',\n",
    "        linestyle ='-.', linewidth = 0.5,\n",
    "        alpha = 0.2)\n",
    " \n",
    "# Show top values\n",
    "ax.invert_yaxis()\n",
    " \n",
    "# Add annotation to bars\n",
    "for i in ax.patches:\n",
    "    plt.text(i.get_width()+0.01, i.get_y()+0.5,\n",
    "             str(round((i.get_width()), 2)),\n",
    "             fontsize = 10, fontweight ='bold',\n",
    "             color ='grey')\n",
    " \n",
    "# Add Plot Title\n",
    "ax.set_title('Glass Ensemble - EoE Voting - EoE Stack', loc ='center')\n",
    " \n",
    "\n",
    " \n",
    "# Show Plot\n",
    "plt.show()"
   ]
  },
  {
   "cell_type": "code",
   "execution_count": null,
   "metadata": {},
   "outputs": [],
   "source": []
  }
 ],
 "metadata": {
  "kernelspec": {
   "display_name": "Python 3",
   "language": "python",
   "name": "python3"
  },
  "language_info": {
   "codemirror_mode": {
    "name": "ipython",
    "version": 3
   },
   "file_extension": ".py",
   "mimetype": "text/x-python",
   "name": "python",
   "nbconvert_exporter": "python",
   "pygments_lexer": "ipython3",
   "version": "3.11.1 (tags/v3.11.1:a7a450f, Dec  6 2022, 19:58:39) [MSC v.1934 64 bit (AMD64)]"
  },
  "orig_nbformat": 4,
  "vscode": {
   "interpreter": {
    "hash": "38ab38b9cb30693e3bdc224e702989ac77930d013b745db9874085a6476b0f2e"
   }
  }
 },
 "nbformat": 4,
 "nbformat_minor": 2
}
